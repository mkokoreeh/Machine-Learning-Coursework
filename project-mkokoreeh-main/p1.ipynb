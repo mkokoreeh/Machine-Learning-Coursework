{
 "cells": [
  {
   "cell_type": "markdown",
   "metadata": {},
   "source": [
    "# Problem 1\n",
    "\n",
    "- You can use the iris dataset that is built in sklearn. Read more about this dataset [here](https://scikit-learn.org/stable/auto_examples/datasets/plot_iris_dataset.html).\n"
   ]
  },
  {
   "cell_type": "code",
   "execution_count": 6,
   "metadata": {},
   "outputs": [],
   "source": [
    "from sklearn.datasets import load_iris\n",
    "from sklearn.linear_model import Perceptron\n",
    "from sklearn.preprocessing import StandardScaler\n",
    "from sklearn.metrics import accuracy_score\n",
    "import numpy as np\n",
    "import pandas as pd"
   ]
  },
  {
   "cell_type": "code",
   "execution_count": 22,
   "metadata": {},
   "outputs": [],
   "source": [
    "train_accuracy, test_accuracy = None, None\n",
    "\n",
    "# ===== Load the Iris dataset ===== #\n",
    "iris = load_iris()\n",
    "data = iris.data\n",
    "target = iris.target\n",
    "# ===== End of Load the Iris dataset ===== #\n",
    "\n",
    "# ===== Merge classes for binary classification ===== #\n",
    "target_binary = np.where((target == 1) | (target == 2), 0, 1)\n",
    "# ===== End of Merge classes for binary classification ===== #\n",
    "\n",
    "# ===== Splitting data into training and testing sets ===== #\n",
    "setosa_indices_train = np.where(target_binary == 1)[0][:40]\n",
    "not_setosa_indices_train = np.where(target_binary == 0)[0][:80]\n",
    "# ===== End of Splitting data into training and testing sets ===== #\n",
    "\n",
    "# ===== Training the Perceptron model ===== #\n",
    "indices_train = np.concatenate([setosa_indices_train, not_setosa_indices_train])\n",
    "\n",
    "data_train = data[indices_train]\n",
    "target_train = target_binary[indices_train]\n",
    "\n",
    "data_test = np.delete(data, indices_train, axis=0)\n",
    "target_test = np.delete(target_binary, indices_train)\n",
    "\n",
    "scaler = StandardScaler()\n",
    "data_train_std = scaler.fit_transform(data_train)\n",
    "data_test_std = scaler.transform(data_test)\n",
    "\n",
    "perceptron = Perceptron(shuffle=True, random_state=42)\n",
    "perceptron.fit(data_train_std, target_train)\n",
    "\n",
    "# ===== End of Training the Perceptron model ===== #\n",
    "\n",
    "# ===== Predicting and evaluating the model ===== #\n",
    "target_train_pred = perceptron.predict(data_train_std)\n",
    "target_test_pred = perceptron.predict(data_test_std)\n",
    "train_accuracy = accuracy_score(target_train, target_train_pred)\n",
    "test_accuracy = accuracy_score(target_test, target_test_pred)\n",
    "\n",
    "# ===== End of Predicting and evaluating the model ===== #\n"
   ]
  },
  {
   "cell_type": "code",
   "execution_count": 23,
   "metadata": {},
   "outputs": [
    {
     "name": "stdout",
     "output_type": "stream",
     "text": [
      "Training Accuracy: 1.0\n",
      "Testing Accuracy: 1.0\n"
     ]
    }
   ],
   "source": [
    "print(f\"Training Accuracy: {train_accuracy}\")\n",
    "print(f\"Testing Accuracy: {test_accuracy}\")"
   ]
  }
 ],
 "metadata": {
  "kernelspec": {
   "display_name": "Python 3 (ipykernel)",
   "language": "python",
   "name": "python3"
  },
  "language_info": {
   "codemirror_mode": {
    "name": "ipython",
    "version": 3
   },
   "file_extension": ".py",
   "mimetype": "text/x-python",
   "name": "python",
   "nbconvert_exporter": "python",
   "pygments_lexer": "ipython3",
   "version": "3.11.4"
  }
 },
 "nbformat": 4,
 "nbformat_minor": 2
}
